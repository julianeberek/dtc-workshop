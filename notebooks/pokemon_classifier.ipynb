{
 "cells": [
  {
   "cell_type": "markdown",
   "id": "8ea2ee86",
   "metadata": {},
   "source": [
    "# Pokemon type classifier\n",
    "\n",
    "This project takes a dataset with Pokémon sprites and trains a CNN to classify whether a Pokémon belongs to a certain type (e.g. water: true or false). It is meant as a demo to show how DVC can be used in deep learning scenarios."
   ]
  },
  {
   "cell_type": "markdown",
   "id": "9bb0a073",
   "metadata": {},
   "source": [
    "## Imports and parameters"
   ]
  },
  {
   "cell_type": "code",
   "execution_count": 9,
   "id": "04cb1f0e",
   "metadata": {},
   "outputs": [],
   "source": [
    "import math\n",
    "import os\n",
    "import re\n",
    "import shutil\n",
    "from pathlib import Path\n",
    "from typing import Optional\n",
    "\n",
    "import matplotlib.pyplot as plt\n",
    "import numpy as np\n",
    "import pandas as pd\n",
    "import pickle\n",
    "import tensorflow as tf\n",
    "from keras.layers import (Activation, BatchNormalization, Conv2D, Dense,\n",
    "                          Dropout, Flatten, MaxPooling2D)\n",
    "from keras.models import Sequential\n",
    "from keras.preprocessing import image\n",
    "from keras.utils import to_categorical\n",
    "from sklearn.metrics import (ConfusionMatrixDisplay, classification_report,\n",
    "                             confusion_matrix, log_loss, accuracy_score, f1_score,\n",
    "                             precision_score, recall_score)\n",
    "from sklearn.model_selection import train_test_split\n",
    "from tensorflow import keras\n",
    "from tensorflow.keras import layers, regularizers\n",
    "from tqdm import tqdm\n",
    "import yaml"
   ]
  },
  {
   "cell_type": "markdown",
   "id": "8aa1d619",
   "metadata": {},
   "source": [
    "## Define variables"
   ]
  },
  {
   "cell_type": "code",
   "execution_count": 10,
   "id": "b2cc5214",
   "metadata": {},
   "outputs": [],
   "source": [
    "SEED: int = 42\n",
    "POKEMON_TYPE_TRAIN: str = \"Water\"\n",
    "    \n",
    "SOURCE_DIRECTORY: str = \"data/external\"\n",
    "DESTINATION_DIRECTORY: str = \"data/processed\"\n",
    "TRAIN_DATA_IMAGES: str = \"images\"\n",
    "TRAIN_DATA_LABELS: str = \"pokemon.csv\"\n",
    "\n",
    "MODEL_TEST_SIZE: float = 0.2\n",
    "MODEL_LEARNING_RATE: float = 0.001\n",
    "MODEL_EPOCHS: int = 10\n",
    "MODEL_BATCH_SIZE: int = 120\n"
   ]
  },
  {
   "cell_type": "markdown",
   "id": "7c11e358",
   "metadata": {},
   "source": [
    "## Util: find root of Git project"
   ]
  },
  {
   "cell_type": "code",
   "execution_count": 11,
   "id": "3189d179",
   "metadata": {},
   "outputs": [],
   "source": [
    "def find_project_root() -> Optional[Path]:\n",
    "    current = Path(\".\").resolve()\n",
    "    \n",
    "    while True:\n",
    "        if (current / \".git\").exists():\n",
    "            return current\n",
    "        \n",
    "        if current.parent == current:\n",
    "            print(\"WARNING: No .git dir found\")\n",
    "            return current\n",
    "              \n",
    "        current = current.parent\n",
    "        \n",
    "\n",
    "PROJECT_ROOT = find_project_root()"
   ]
  },
  {
   "cell_type": "markdown",
   "id": "32843bac",
   "metadata": {},
   "source": [
    "## Make sure the right directory structure exists"
   ]
  },
  {
   "cell_type": "code",
   "execution_count": 12,
   "id": "94350a58",
   "metadata": {},
   "outputs": [],
   "source": [
    "try:\n",
    "    os.mkdir(PROJECT_ROOT / DESTINATION_DIRECTORY)\n",
    "except:\n",
    "    None\n",
    "    \n",
    "try:\n",
    "    os.mkdir(PROJECT_ROOT / \"outputs\")\n",
    "except:\n",
    "    None"
   ]
  },
  {
   "cell_type": "markdown",
   "id": "7cf2367b",
   "metadata": {},
   "source": [
    "## Data preprocessing"
   ]
  },
  {
   "cell_type": "code",
   "execution_count": 13,
   "id": "e0ac9358",
   "metadata": {},
   "outputs": [
    {
     "data": {
      "text/html": [
       "<div>\n",
       "<style scoped>\n",
       "    .dataframe tbody tr th:only-of-type {\n",
       "        vertical-align: middle;\n",
       "    }\n",
       "\n",
       "    .dataframe tbody tr th {\n",
       "        vertical-align: top;\n",
       "    }\n",
       "\n",
       "    .dataframe thead th {\n",
       "        text-align: right;\n",
       "    }\n",
       "</style>\n",
       "<table border=\"1\" class=\"dataframe\">\n",
       "  <thead>\n",
       "    <tr style=\"text-align: right;\">\n",
       "      <th></th>\n",
       "      <th>pokedex_number</th>\n",
       "      <th>name</th>\n",
       "      <th>type1</th>\n",
       "      <th>type2</th>\n",
       "      <th>isGrass</th>\n",
       "      <th>isNormal</th>\n",
       "      <th>isElectric</th>\n",
       "      <th>isGhost</th>\n",
       "      <th>isBug</th>\n",
       "      <th>isWater</th>\n",
       "      <th>...</th>\n",
       "      <th>isSteel</th>\n",
       "      <th>isFighting</th>\n",
       "      <th>isDragon</th>\n",
       "      <th>isDark</th>\n",
       "      <th>isFlying</th>\n",
       "      <th>isIce</th>\n",
       "      <th>isFire</th>\n",
       "      <th>isFairy</th>\n",
       "      <th>isGround</th>\n",
       "      <th>isPsychic</th>\n",
       "    </tr>\n",
       "  </thead>\n",
       "  <tbody>\n",
       "    <tr>\n",
       "      <th>0</th>\n",
       "      <td>1</td>\n",
       "      <td>Bulbasaur</td>\n",
       "      <td>grass</td>\n",
       "      <td>poison</td>\n",
       "      <td>1</td>\n",
       "      <td>0</td>\n",
       "      <td>0</td>\n",
       "      <td>0</td>\n",
       "      <td>0</td>\n",
       "      <td>0</td>\n",
       "      <td>...</td>\n",
       "      <td>0</td>\n",
       "      <td>0</td>\n",
       "      <td>0</td>\n",
       "      <td>0</td>\n",
       "      <td>0</td>\n",
       "      <td>0</td>\n",
       "      <td>0</td>\n",
       "      <td>0</td>\n",
       "      <td>0</td>\n",
       "      <td>0</td>\n",
       "    </tr>\n",
       "    <tr>\n",
       "      <th>1</th>\n",
       "      <td>2</td>\n",
       "      <td>Ivysaur</td>\n",
       "      <td>grass</td>\n",
       "      <td>poison</td>\n",
       "      <td>1</td>\n",
       "      <td>0</td>\n",
       "      <td>0</td>\n",
       "      <td>0</td>\n",
       "      <td>0</td>\n",
       "      <td>0</td>\n",
       "      <td>...</td>\n",
       "      <td>0</td>\n",
       "      <td>0</td>\n",
       "      <td>0</td>\n",
       "      <td>0</td>\n",
       "      <td>0</td>\n",
       "      <td>0</td>\n",
       "      <td>0</td>\n",
       "      <td>0</td>\n",
       "      <td>0</td>\n",
       "      <td>0</td>\n",
       "    </tr>\n",
       "    <tr>\n",
       "      <th>2</th>\n",
       "      <td>3</td>\n",
       "      <td>Venusaur</td>\n",
       "      <td>grass</td>\n",
       "      <td>poison</td>\n",
       "      <td>1</td>\n",
       "      <td>0</td>\n",
       "      <td>0</td>\n",
       "      <td>0</td>\n",
       "      <td>0</td>\n",
       "      <td>0</td>\n",
       "      <td>...</td>\n",
       "      <td>0</td>\n",
       "      <td>0</td>\n",
       "      <td>0</td>\n",
       "      <td>0</td>\n",
       "      <td>0</td>\n",
       "      <td>0</td>\n",
       "      <td>0</td>\n",
       "      <td>0</td>\n",
       "      <td>0</td>\n",
       "      <td>0</td>\n",
       "    </tr>\n",
       "    <tr>\n",
       "      <th>3</th>\n",
       "      <td>4</td>\n",
       "      <td>Charmander</td>\n",
       "      <td>fire</td>\n",
       "      <td>NaN</td>\n",
       "      <td>0</td>\n",
       "      <td>0</td>\n",
       "      <td>0</td>\n",
       "      <td>0</td>\n",
       "      <td>0</td>\n",
       "      <td>0</td>\n",
       "      <td>...</td>\n",
       "      <td>0</td>\n",
       "      <td>0</td>\n",
       "      <td>0</td>\n",
       "      <td>0</td>\n",
       "      <td>0</td>\n",
       "      <td>0</td>\n",
       "      <td>1</td>\n",
       "      <td>0</td>\n",
       "      <td>0</td>\n",
       "      <td>0</td>\n",
       "    </tr>\n",
       "    <tr>\n",
       "      <th>4</th>\n",
       "      <td>5</td>\n",
       "      <td>Charmeleon</td>\n",
       "      <td>fire</td>\n",
       "      <td>NaN</td>\n",
       "      <td>0</td>\n",
       "      <td>0</td>\n",
       "      <td>0</td>\n",
       "      <td>0</td>\n",
       "      <td>0</td>\n",
       "      <td>0</td>\n",
       "      <td>...</td>\n",
       "      <td>0</td>\n",
       "      <td>0</td>\n",
       "      <td>0</td>\n",
       "      <td>0</td>\n",
       "      <td>0</td>\n",
       "      <td>0</td>\n",
       "      <td>1</td>\n",
       "      <td>0</td>\n",
       "      <td>0</td>\n",
       "      <td>0</td>\n",
       "    </tr>\n",
       "  </tbody>\n",
       "</table>\n",
       "<p>5 rows × 22 columns</p>\n",
       "</div>"
      ],
      "text/plain": [
       "   pokedex_number        name  type1   type2  isGrass  isNormal  isElectric  \\\n",
       "0               1   Bulbasaur  grass  poison        1         0           0   \n",
       "1               2     Ivysaur  grass  poison        1         0           0   \n",
       "2               3    Venusaur  grass  poison        1         0           0   \n",
       "3               4  Charmander   fire     NaN        0         0           0   \n",
       "4               5  Charmeleon   fire     NaN        0         0           0   \n",
       "\n",
       "   isGhost  isBug  isWater  ...  isSteel  isFighting  isDragon  isDark  \\\n",
       "0        0      0        0  ...        0           0         0       0   \n",
       "1        0      0        0  ...        0           0         0       0   \n",
       "2        0      0        0  ...        0           0         0       0   \n",
       "3        0      0        0  ...        0           0         0       0   \n",
       "4        0      0        0  ...        0           0         0       0   \n",
       "\n",
       "   isFlying  isIce  isFire  isFairy  isGround  isPsychic  \n",
       "0         0      0       0        0         0          0  \n",
       "1         0      0       0        0         0          0  \n",
       "2         0      0       0        0         0          0  \n",
       "3         0      0       1        0         0          0  \n",
       "4         0      0       1        0         0          0  \n",
       "\n",
       "[5 rows x 22 columns]"
      ]
     },
     "execution_count": 13,
     "metadata": {},
     "output_type": "execute_result"
    }
   ],
   "source": [
    "# Process Pokémon and one-hot encode the types\n",
    "\n",
    "def preprocess_training_labels(dataset) -> pd.DataFrame:\n",
    "    pokemon = pd.read_csv(PROJECT_ROOT / SOURCE_DIRECTORY / dataset)\n",
    "    pokemon = pokemon[[\"pokedex_number\", \"name\", \"type1\", \"type2\"]]\n",
    "\n",
    "    # Create one-hot columns for each type\n",
    "    types = set(pokemon[\"type1\"])\n",
    "    for t in types:\n",
    "        pokemon[\"is\" + str(t).capitalize()] = 0\n",
    "\n",
    "    # Iterate over Pokémon\n",
    "    for i, p in pokemon.iterrows():\n",
    "\n",
    "        #  Set one-hot columns to 1 for relevant types\n",
    "        pokemon.loc[i, \"is\" + p[\"type1\"].capitalize()] = 1\n",
    "\n",
    "        if not pd.isna(p[\"type2\"]):\n",
    "            pokemon.loc[i, \"is\" + p[\"type2\"].capitalize()] = 1\n",
    "            \n",
    "    # Save output    \n",
    "    pokemon.to_csv(PROJECT_ROOT / DESTINATION_DIRECTORY / 'pokemon_processed.csv', index=False)            \n",
    "    return(pokemon)\n",
    "\n",
    "pokemon = preprocess_training_labels(TRAIN_DATA_LABELS)\n",
    "pokemon.head()"
   ]
  },
  {
   "cell_type": "code",
   "execution_count": 14,
   "id": "43dbb2ca",
   "metadata": {},
   "outputs": [
    {
     "data": {
      "text/html": [
       "<div>\n",
       "<style scoped>\n",
       "    .dataframe tbody tr th:only-of-type {\n",
       "        vertical-align: middle;\n",
       "    }\n",
       "\n",
       "    .dataframe tbody tr th {\n",
       "        vertical-align: top;\n",
       "    }\n",
       "\n",
       "    .dataframe thead th {\n",
       "        text-align: right;\n",
       "    }\n",
       "</style>\n",
       "<table border=\"1\" class=\"dataframe\">\n",
       "  <thead>\n",
       "    <tr style=\"text-align: right;\">\n",
       "      <th></th>\n",
       "      <th>pokedex_number</th>\n",
       "      <th>name</th>\n",
       "      <th>type1</th>\n",
       "      <th>type2</th>\n",
       "      <th>isGrass</th>\n",
       "      <th>isNormal</th>\n",
       "      <th>isElectric</th>\n",
       "      <th>isGhost</th>\n",
       "      <th>isBug</th>\n",
       "      <th>isWater</th>\n",
       "      <th>...</th>\n",
       "      <th>isFighting</th>\n",
       "      <th>isDragon</th>\n",
       "      <th>isDark</th>\n",
       "      <th>isFlying</th>\n",
       "      <th>isIce</th>\n",
       "      <th>isFire</th>\n",
       "      <th>isFairy</th>\n",
       "      <th>isGround</th>\n",
       "      <th>isPsychic</th>\n",
       "      <th>imagePath</th>\n",
       "    </tr>\n",
       "  </thead>\n",
       "  <tbody>\n",
       "    <tr>\n",
       "      <th>0</th>\n",
       "      <td>1</td>\n",
       "      <td>Bulbasaur</td>\n",
       "      <td>grass</td>\n",
       "      <td>poison</td>\n",
       "      <td>1</td>\n",
       "      <td>0</td>\n",
       "      <td>0</td>\n",
       "      <td>0</td>\n",
       "      <td>0</td>\n",
       "      <td>0</td>\n",
       "      <td>...</td>\n",
       "      <td>0</td>\n",
       "      <td>0</td>\n",
       "      <td>0</td>\n",
       "      <td>0</td>\n",
       "      <td>0</td>\n",
       "      <td>0</td>\n",
       "      <td>0</td>\n",
       "      <td>0</td>\n",
       "      <td>0</td>\n",
       "      <td>/Users/julianeberek/projects_ds/own-projects/d...</td>\n",
       "    </tr>\n",
       "    <tr>\n",
       "      <th>1</th>\n",
       "      <td>2</td>\n",
       "      <td>Ivysaur</td>\n",
       "      <td>grass</td>\n",
       "      <td>poison</td>\n",
       "      <td>1</td>\n",
       "      <td>0</td>\n",
       "      <td>0</td>\n",
       "      <td>0</td>\n",
       "      <td>0</td>\n",
       "      <td>0</td>\n",
       "      <td>...</td>\n",
       "      <td>0</td>\n",
       "      <td>0</td>\n",
       "      <td>0</td>\n",
       "      <td>0</td>\n",
       "      <td>0</td>\n",
       "      <td>0</td>\n",
       "      <td>0</td>\n",
       "      <td>0</td>\n",
       "      <td>0</td>\n",
       "      <td>/Users/julianeberek/projects_ds/own-projects/d...</td>\n",
       "    </tr>\n",
       "    <tr>\n",
       "      <th>2</th>\n",
       "      <td>3</td>\n",
       "      <td>Venusaur</td>\n",
       "      <td>grass</td>\n",
       "      <td>poison</td>\n",
       "      <td>1</td>\n",
       "      <td>0</td>\n",
       "      <td>0</td>\n",
       "      <td>0</td>\n",
       "      <td>0</td>\n",
       "      <td>0</td>\n",
       "      <td>...</td>\n",
       "      <td>0</td>\n",
       "      <td>0</td>\n",
       "      <td>0</td>\n",
       "      <td>0</td>\n",
       "      <td>0</td>\n",
       "      <td>0</td>\n",
       "      <td>0</td>\n",
       "      <td>0</td>\n",
       "      <td>0</td>\n",
       "      <td>/Users/julianeberek/projects_ds/own-projects/d...</td>\n",
       "    </tr>\n",
       "    <tr>\n",
       "      <th>3</th>\n",
       "      <td>4</td>\n",
       "      <td>Charmander</td>\n",
       "      <td>fire</td>\n",
       "      <td>NaN</td>\n",
       "      <td>0</td>\n",
       "      <td>0</td>\n",
       "      <td>0</td>\n",
       "      <td>0</td>\n",
       "      <td>0</td>\n",
       "      <td>0</td>\n",
       "      <td>...</td>\n",
       "      <td>0</td>\n",
       "      <td>0</td>\n",
       "      <td>0</td>\n",
       "      <td>0</td>\n",
       "      <td>0</td>\n",
       "      <td>1</td>\n",
       "      <td>0</td>\n",
       "      <td>0</td>\n",
       "      <td>0</td>\n",
       "      <td>/Users/julianeberek/projects_ds/own-projects/d...</td>\n",
       "    </tr>\n",
       "    <tr>\n",
       "      <th>4</th>\n",
       "      <td>5</td>\n",
       "      <td>Charmeleon</td>\n",
       "      <td>fire</td>\n",
       "      <td>NaN</td>\n",
       "      <td>0</td>\n",
       "      <td>0</td>\n",
       "      <td>0</td>\n",
       "      <td>0</td>\n",
       "      <td>0</td>\n",
       "      <td>0</td>\n",
       "      <td>...</td>\n",
       "      <td>0</td>\n",
       "      <td>0</td>\n",
       "      <td>0</td>\n",
       "      <td>0</td>\n",
       "      <td>0</td>\n",
       "      <td>1</td>\n",
       "      <td>0</td>\n",
       "      <td>0</td>\n",
       "      <td>0</td>\n",
       "      <td>/Users/julianeberek/projects_ds/own-projects/d...</td>\n",
       "    </tr>\n",
       "  </tbody>\n",
       "</table>\n",
       "<p>5 rows × 23 columns</p>\n",
       "</div>"
      ],
      "text/plain": [
       "   pokedex_number        name  type1   type2  isGrass  isNormal  isElectric  \\\n",
       "0               1   Bulbasaur  grass  poison        1         0           0   \n",
       "1               2     Ivysaur  grass  poison        1         0           0   \n",
       "2               3    Venusaur  grass  poison        1         0           0   \n",
       "3               4  Charmander   fire     NaN        0         0           0   \n",
       "4               5  Charmeleon   fire     NaN        0         0           0   \n",
       "\n",
       "   isGhost  isBug  isWater  ...  isFighting  isDragon  isDark  isFlying  \\\n",
       "0        0      0        0  ...           0         0       0         0   \n",
       "1        0      0        0  ...           0         0       0         0   \n",
       "2        0      0        0  ...           0         0       0         0   \n",
       "3        0      0        0  ...           0         0       0         0   \n",
       "4        0      0        0  ...           0         0       0         0   \n",
       "\n",
       "   isIce  isFire  isFairy  isGround  isPsychic  \\\n",
       "0      0       0        0         0          0   \n",
       "1      0       0        0         0          0   \n",
       "2      0       0        0         0          0   \n",
       "3      0       1        0         0          0   \n",
       "4      0       1        0         0          0   \n",
       "\n",
       "                                           imagePath  \n",
       "0  /Users/julianeberek/projects_ds/own-projects/d...  \n",
       "1  /Users/julianeberek/projects_ds/own-projects/d...  \n",
       "2  /Users/julianeberek/projects_ds/own-projects/d...  \n",
       "3  /Users/julianeberek/projects_ds/own-projects/d...  \n",
       "4  /Users/julianeberek/projects_ds/own-projects/d...  \n",
       "\n",
       "[5 rows x 23 columns]"
      ]
     },
     "execution_count": 14,
     "metadata": {},
     "output_type": "execute_result"
    }
   ],
   "source": [
    "# Process image data\n",
    "\n",
    "def preprocess_training_data(dataset) -> pd.DataFrame:\n",
    "\n",
    "    data_directory_images = PROJECT_ROOT / SOURCE_DIRECTORY / dataset\n",
    "    output_directory = PROJECT_ROOT / DESTINATION_DIRECTORY / \"pokemon\"\n",
    "\n",
    "    pokemon = pd.read_csv(PROJECT_ROOT / DESTINATION_DIRECTORY / 'pokemon_processed.csv')\n",
    "    pokemon[\"imagePath\"] = np.nan\n",
    "\n",
    "    # Remove processed folder and create empty new one\n",
    "    try:\n",
    "        shutil.rmtree(output_directory)\n",
    "        os.mkdir(output_directory)\n",
    "    except:\n",
    "        os.mkdir(output_directory)\n",
    "\n",
    "    # Copy images to processed folder\n",
    "    for image in os.listdir(data_directory_images):\n",
    "        pokemon_id = image.split('.')[0]\n",
    "\n",
    "        # Add leading zeroes to ID\n",
    "        while len(pokemon_id) < 3:\n",
    "            pokemon_id = \"0\" + pokemon_id\n",
    "\n",
    "        # Images with no variety (e.g. \"211.png\")\n",
    "        if pokemon_id.isnumeric():\n",
    "\n",
    "            # Copy to processed folder\n",
    "            src = data_directory_images / image\n",
    "            dst = os.path.join(output_directory, pokemon_id + \".png\")\n",
    "            shutil.copyfile(src, dst)\n",
    "\n",
    "            # Set image path in data frame\n",
    "            pokemon.loc[pokemon[\"pokedex_number\"] == int(pokemon_id), 'imagePath'] = dst\n",
    "\n",
    "    # Drop Pokemon without image path\n",
    "    pokemon = pokemon.dropna(subset=[\"imagePath\"])\n",
    "    \n",
    "    # Save pokemon.csv with image paths\n",
    "    pokemon.to_csv(PROJECT_ROOT / DESTINATION_DIRECTORY / 'pokemon-with-image-paths.csv', index=False)\n",
    "    \n",
    "    return(pokemon)\n",
    "\n",
    "\n",
    "pokemon = preprocess_training_data(TRAIN_DATA_IMAGES)\n",
    "pokemon.head()"
   ]
  },
  {
   "cell_type": "markdown",
   "id": "6d76e7fb",
   "metadata": {},
   "source": [
    "## Load training data and create split"
   ]
  },
  {
   "cell_type": "code",
   "execution_count": 15,
   "id": "fa9587d5",
   "metadata": {},
   "outputs": [
    {
     "name": "stderr",
     "output_type": "stream",
     "text": [
      "100%|██████████| 801/801 [00:04<00:00, 172.43it/s]\n"
     ]
    },
    {
     "data": {
      "text/plain": [
       "(801, 475, 475, 4)"
      ]
     },
     "execution_count": 15,
     "metadata": {},
     "output_type": "execute_result"
    }
   ],
   "source": [
    "# Load training images\n",
    "def load_training_data(labels) -> np.array:\n",
    "    train_image = []\n",
    "\n",
    "    for i in tqdm(range(labels.shape[0])):\n",
    "\n",
    "        img = tf.keras.utils.load_img(labels.iloc[i][\"imagePath\"], color_mode='rgba')\n",
    "        img = tf.keras.utils.img_to_array(img)\n",
    "        img = img/255\n",
    "        train_image.append(img)\n",
    "    X = np.array(train_image)\n",
    "    \n",
    "    return(X)\n",
    "\n",
    "X = load_training_data(pokemon)\n",
    "X.shape"
   ]
  },
  {
   "cell_type": "code",
   "execution_count": 16,
   "id": "ce38d32d",
   "metadata": {},
   "outputs": [],
   "source": [
    "# Create labels\n",
    "\n",
    "def create_labels(labels):\n",
    "    return(pokemon[[\"is\" + POKEMON_TYPE_TRAIN]])\n",
    "\n",
    "y = create_labels(pokemon)"
   ]
  },
  {
   "cell_type": "code",
   "execution_count": 17,
   "id": "b86f832e",
   "metadata": {},
   "outputs": [
    {
     "name": "stdout",
     "output_type": "stream",
     "text": [
      "(640, 475, 475, 4) (640, 1)\n",
      "(161, 475, 475, 4) (161, 1)\n"
     ]
    }
   ],
   "source": [
    "# Train test split\n",
    "\n",
    "X_train, X_test, y_train, y_test = train_test_split(X, y, random_state=SEED, test_size=MODEL_TEST_SIZE, stratify=y)\n",
    "\n",
    "print(X_train.shape, y_train.shape)\n",
    "print(X_test.shape, y_test.shape)"
   ]
  },
  {
   "cell_type": "code",
   "execution_count": 18,
   "id": "92fc30f3",
   "metadata": {},
   "outputs": [],
   "source": [
    "# Save train and test data\n",
    "\n",
    "pickle.dump(X, open(PROJECT_ROOT / DESTINATION_DIRECTORY / \"X.pckl\", \"wb\"))\n",
    "pickle.dump(X_train, open(PROJECT_ROOT / DESTINATION_DIRECTORY / \"X_train.pckl\", \"wb\"))\n",
    "pickle.dump(X_test, open(PROJECT_ROOT / DESTINATION_DIRECTORY / \"X_test.pckl\", \"wb\"))\n",
    "\n",
    "pickle.dump(y, open(PROJECT_ROOT / DESTINATION_DIRECTORY / \"y.pckl\", \"wb\"))\n",
    "pickle.dump(y_train, open(PROJECT_ROOT / DESTINATION_DIRECTORY / \"y_train.pckl\", \"wb\"))\n",
    "pickle.dump(y_test, open(PROJECT_ROOT / DESTINATION_DIRECTORY / \"y_test.pckl\", \"wb\"))"
   ]
  },
  {
   "cell_type": "markdown",
   "id": "dd36cbb4",
   "metadata": {},
   "source": [
    "## Define model and train"
   ]
  },
  {
   "cell_type": "code",
   "execution_count": 19,
   "id": "d0d7e97c",
   "metadata": {},
   "outputs": [
    {
     "name": "stdout",
     "output_type": "stream",
     "text": [
      "Metal device set to: Apple M1\n",
      "\n",
      "systemMemory: 16.00 GB\n",
      "maxCacheSize: 5.33 GB\n",
      "\n",
      "Model: \"sequential\"\n",
      "_________________________________________________________________\n",
      " Layer (type)                Output Shape              Param #   \n",
      "=================================================================\n",
      " conv2d (Conv2D)             (None, 471, 471, 4)       404       \n",
      "                                                                 \n",
      " max_pooling2d (MaxPooling2D  (None, 235, 235, 4)      0         \n",
      " )                                                               \n",
      "                                                                 \n",
      " dropout (Dropout)           (None, 235, 235, 4)       0         \n",
      "                                                                 \n",
      " conv2d_1 (Conv2D)           (None, 231, 231, 4)       404       \n",
      "                                                                 \n",
      " max_pooling2d_1 (MaxPooling  (None, 115, 115, 4)      0         \n",
      " 2D)                                                             \n",
      "                                                                 \n",
      " dense (Dense)               (None, 115, 115, 8)       40        \n",
      "                                                                 \n",
      " dropout_1 (Dropout)         (None, 115, 115, 8)       0         \n",
      "                                                                 \n",
      " flatten (Flatten)           (None, 105800)            0         \n",
      "                                                                 \n",
      " dense_1 (Dense)             (None, 1)                 105801    \n",
      "                                                                 \n",
      "=================================================================\n",
      "Total params: 106,649\n",
      "Trainable params: 106,649\n",
      "Non-trainable params: 0\n",
      "_________________________________________________________________\n"
     ]
    },
    {
     "name": "stderr",
     "output_type": "stream",
     "text": [
      "2023-03-05 19:26:19.255143: I tensorflow/core/common_runtime/pluggable_device/pluggable_device_factory.cc:305] Could not identify NUMA node of platform GPU ID 0, defaulting to 0. Your kernel may not have been built with NUMA support.\n",
      "2023-03-05 19:26:19.255878: I tensorflow/core/common_runtime/pluggable_device/pluggable_device_factory.cc:271] Created TensorFlow device (/job:localhost/replica:0/task:0/device:GPU:0 with 0 MB memory) -> physical PluggableDevice (device: 0, name: METAL, pci bus id: <undefined>)\n"
     ]
    }
   ],
   "source": [
    "def compile_model(model_image_size_x, model_image_size_y):\n",
    "    img_input = layers.Input(shape=(model_image_size_x, model_image_size_y, 4))\n",
    "\n",
    "    model = Sequential()\n",
    "\n",
    "    model.add(Conv2D(4, kernel_size=(5,5), activation='relu', kernel_regularizer=regularizers.l2(l=0.01), input_shape=(model_image_size_x, model_image_size_y, 4)))\n",
    "    model.add(MaxPooling2D(pool_size=(2, 2)))\n",
    "\n",
    "    model.add(Dropout(0.2))\n",
    "\n",
    "    model.add(Conv2D(4, kernel_size=(5,5), activation='relu', kernel_regularizer=regularizers.l2(l=0.01)))\n",
    "    model.add(MaxPooling2D(pool_size=(2, 2)))\n",
    "\n",
    "    # model.add(Dropout(0.2))\n",
    "\n",
    "    model.add(Dense(8, activation=\"relu\"))\n",
    "\n",
    "    model.add(Dropout(0.2))\n",
    "    model.add(Flatten())\n",
    "\n",
    "    model.add(Dense(1, activation=\"sigmoid\"))\n",
    "\n",
    "    # Legacy needed for M1/M2\n",
    "    optimizer = keras.optimizers.legacy.Adam(learning_rate=0.001) #Adam, RMSprop or SGD\n",
    "\n",
    "    model.compile(\n",
    "        loss='binary_crossentropy'\n",
    "        , optimizer=optimizer\n",
    "        , metrics=[keras.metrics.AUC()]\n",
    "    )\n",
    "\n",
    "    model.summary()\n",
    "\n",
    "    return(model)\n",
    "\n",
    "model_image_size_x = len(X[1])\n",
    "model_image_size_y = len(X[2])\n",
    "\n",
    "model = compile_model(model_image_size_x, model_image_size_y)"
   ]
  },
  {
   "cell_type": "code",
   "execution_count": 20,
   "id": "70e9a4b7",
   "metadata": {},
   "outputs": [
    {
     "name": "stdout",
     "output_type": "stream",
     "text": [
      "Epoch 1/10\n"
     ]
    },
    {
     "name": "stderr",
     "output_type": "stream",
     "text": [
      "2023-03-05 19:26:20.872964: W tensorflow/core/platform/profile_utils/cpu_utils.cc:128] Failed to get CPU frequency: 0 Hz\n",
      "2023-03-05 19:26:21.565069: I tensorflow/core/grappler/optimizers/custom_graph_optimizer_registry.cc:113] Plugin optimizer for device_type GPU is enabled.\n"
     ]
    },
    {
     "name": "stdout",
     "output_type": "stream",
     "text": [
      "6/6 [==============================] - ETA: 0s - loss: 0.3349 - auc: 0.5666"
     ]
    },
    {
     "name": "stderr",
     "output_type": "stream",
     "text": [
      "2023-03-05 19:26:29.107404: I tensorflow/core/grappler/optimizers/custom_graph_optimizer_registry.cc:113] Plugin optimizer for device_type GPU is enabled.\n"
     ]
    },
    {
     "name": "stdout",
     "output_type": "stream",
     "text": [
      "6/6 [==============================] - 9s 1s/step - loss: 0.3349 - auc: 0.5666 - val_loss: 0.6384 - val_auc: 0.4330\n",
      "Epoch 2/10\n",
      "6/6 [==============================] - 6s 983ms/step - loss: 0.2718 - auc: 0.6196 - val_loss: 0.7975 - val_auc: 0.5281\n",
      "Epoch 3/10\n",
      "6/6 [==============================] - 6s 961ms/step - loss: 0.2501 - auc: 0.6983 - val_loss: 0.7162 - val_auc: 0.4095\n",
      "Epoch 4/10\n",
      "6/6 [==============================] - 6s 976ms/step - loss: 0.2511 - auc: 0.7714 - val_loss: 0.7391 - val_auc: 0.4803\n",
      "Epoch 5/10\n",
      "6/6 [==============================] - 6s 1s/step - loss: 0.2309 - auc: 0.8862 - val_loss: 0.7513 - val_auc: 0.5432\n",
      "Epoch 6/10\n",
      "6/6 [==============================] - 6s 1s/step - loss: 0.2204 - auc: 0.8998 - val_loss: 0.6547 - val_auc: 0.5024\n",
      "Epoch 7/10\n",
      "6/6 [==============================] - 7s 1s/step - loss: 0.2063 - auc: 0.8849 - val_loss: 0.6589 - val_auc: 0.5506\n",
      "Epoch 8/10\n",
      "6/6 [==============================] - 7s 1s/step - loss: 0.1928 - auc: 0.8852 - val_loss: 0.5683 - val_auc: 0.5386\n",
      "Epoch 9/10\n",
      "6/6 [==============================] - 6s 1s/step - loss: 0.1771 - auc: 0.9198 - val_loss: 0.5425 - val_auc: 0.5484\n",
      "Epoch 10/10\n",
      "6/6 [==============================] - 5s 845ms/step - loss: 0.1627 - auc: 0.9430 - val_loss: 0.5335 - val_auc: 0.5638\n"
     ]
    }
   ],
   "source": [
    "# Now train the model\n",
    "\n",
    "def train_estimator(model):\n",
    "    def calculate_class_weights(y_train):\n",
    "        ratio_true = sum(y_train[\"is\" + POKEMON_TYPE_TRAIN] == 1) / len(y_train[\"is\" + POKEMON_TYPE_TRAIN])\n",
    "        ratio_false = sum(y_train[\"is\" + POKEMON_TYPE_TRAIN] != 1) / len(y_train[\"is\" + POKEMON_TYPE_TRAIN])\n",
    "\n",
    "        return {0: ratio_true, 1: ratio_false}\n",
    "\n",
    "\n",
    "    estimator = model.fit(X_train, y_train, \n",
    "                        validation_data=(X_test, y_test),\n",
    "                        class_weight= calculate_class_weights(y_train),\n",
    "                        epochs=MODEL_EPOCHS, \n",
    "                        batch_size=MODEL_BATCH_SIZE,\n",
    "                        verbose=1)\n",
    "\n",
    "    return(estimator)\n",
    "\n",
    "estimator = train_estimator(model)"
   ]
  },
  {
   "cell_type": "markdown",
   "id": "5a467747",
   "metadata": {},
   "source": [
    "## Plot training history and save model"
   ]
  },
  {
   "cell_type": "code",
   "execution_count": 21,
   "id": "c2a250ff",
   "metadata": {},
   "outputs": [
    {
     "name": "stderr",
     "output_type": "stream",
     "text": [
      "WARNING:absl:Found untraced functions such as _jit_compiled_convolution_op, _jit_compiled_convolution_op while saving (showing 2 of 2). These functions will not be directly callable after loading.\n"
     ]
    },
    {
     "name": "stdout",
     "output_type": "stream",
     "text": [
      "INFO:tensorflow:Assets written to: /Users/julianeberek/projects_ds/own-projects/dtc-workshop/outputs/model/assets\n"
     ]
    },
    {
     "name": "stderr",
     "output_type": "stream",
     "text": [
      "INFO:tensorflow:Assets written to: /Users/julianeberek/projects_ds/own-projects/dtc-workshop/outputs/model/assets\n"
     ]
    },
    {
     "data": {
      "image/png": "[encoded data removed]",
      "text/plain": [
       "<Figure size 640x480 with 1 Axes>"
      ]
     },
     "metadata": {},
     "output_type": "display_data"
    }
   ],
   "source": [
    "def save_estimator(estimator):\n",
    "    # Training history\n",
    "    plt.figure()\n",
    "    plt.ylabel('Loss / Accuracy')\n",
    "    plt.xlabel('Epoch')\n",
    "\n",
    "    for k in estimator.history.keys():\n",
    "        plt.plot(estimator.history[k], label = k) \n",
    "    plt.legend(loc='best')\n",
    "\n",
    "    plt.savefig(PROJECT_ROOT / \"outputs\" / \"train_history.png\", dpi=150, bbox_inches='tight', pad_inches=0)\n",
    "\n",
    "    # Save model itself\n",
    "    model.save(PROJECT_ROOT / \"outputs\" / \"model\")\n",
    "    \n",
    "save_estimator(estimator)"
   ]
  },
  {
   "cell_type": "markdown",
   "id": "72f3c9a0",
   "metadata": {},
   "source": [
    "## Validation"
   ]
  },
  {
   "cell_type": "code",
   "execution_count": 22,
   "id": "db46774d",
   "metadata": {},
   "outputs": [
    {
     "name": "stderr",
     "output_type": "stream",
     "text": [
      "2023-03-05 19:27:25.545702: I tensorflow/core/grappler/optimizers/custom_graph_optimizer_registry.cc:113] Plugin optimizer for device_type GPU is enabled.\n"
     ]
    },
    {
     "name": "stdout",
     "output_type": "stream",
     "text": [
      "0.62964076\n"
     ]
    },
    {
     "data": {
      "image/png": "[encoded data removed]",
      "text/plain": [
       "<Figure size 640x480 with 1 Axes>"
      ]
     },
     "metadata": {},
     "output_type": "display_data"
    }
   ],
   "source": [
    "# Try on one Pokémon\n",
    "def predict_pokemon(id: str, verbose=0):\n",
    "    \n",
    "    id = id.zfill(3)\n",
    "    \n",
    "    img = tf.keras.utils.load_img(PROJECT_ROOT/DESTINATION_DIRECTORY/'pokemon'/f'{id}.png', color_mode='rgba')\n",
    "    img = tf.keras.utils.img_to_array(img)\n",
    "    img = img/255\n",
    "\n",
    "\n",
    "    classes = y\n",
    "    proba = model.predict(img.reshape(1,475,475,4), verbose=verbose)\n",
    "    \n",
    "    plt.clf()\n",
    "    plt.imshow(img)\n",
    "    \n",
    "    return proba[0][0]\n",
    "\n",
    "print(predict_pokemon(\"258\"))"
   ]
  },
  {
   "cell_type": "code",
   "execution_count": 23,
   "id": "5bda34ad",
   "metadata": {},
   "outputs": [],
   "source": [
    "# Load model\n",
    "model = keras.models.load_model(PROJECT_ROOT / \"outputs\" / \"model\")\n",
    "\n",
    "# Load data\n",
    "X = pickle.loads((PROJECT_ROOT / DESTINATION_DIRECTORY / \"X.pckl\").read_bytes())\n",
    "X_train = pickle.loads((PROJECT_ROOT / DESTINATION_DIRECTORY / \"X_train.pckl\").read_bytes())\n",
    "X_test = pickle.loads((PROJECT_ROOT / DESTINATION_DIRECTORY / \"X_test.pckl\").read_bytes())\n",
    "\n",
    "y = pickle.loads((PROJECT_ROOT / DESTINATION_DIRECTORY / \"y.pckl\").read_bytes())\n",
    "y_train = pickle.loads((PROJECT_ROOT / DESTINATION_DIRECTORY / \"y_train.pckl\").read_bytes())\n",
    "y_test = pickle.loads((PROJECT_ROOT / DESTINATION_DIRECTORY / \"y_test.pckl\").read_bytes())\n"
   ]
  },
  {
   "cell_type": "code",
   "execution_count": 24,
   "id": "87081b15",
   "metadata": {},
   "outputs": [
    {
     "name": "stderr",
     "output_type": "stream",
     "text": [
      "2023-03-05 19:27:33.415770: I tensorflow/core/grappler/optimizers/custom_graph_optimizer_registry.cc:113] Plugin optimizer for device_type GPU is enabled.\n"
     ]
    },
    {
     "name": "stdout",
     "output_type": "stream",
     "text": [
      "26/26 [==============================] - 2s 55ms/step\n"
     ]
    }
   ],
   "source": [
    "# Predict all Pokémon\n",
    "predictions = model.predict(X) > 0.5"
   ]
  },
  {
   "cell_type": "code",
   "execution_count": 25,
   "id": "41d30b83",
   "metadata": {},
   "outputs": [
    {
     "name": "stdout",
     "output_type": "stream",
     "text": [
      "{'acc': 0.9076154806491885, 'precision': 0.8701298701298701, 'recall': 0.5114503816793893, 'f1': 0.6442307692307692}\n"
     ]
    }
   ],
   "source": [
    "# Calculate metrics\n",
    "metrics = {}\n",
    "\n",
    "metrics[\"acc\"] = float(accuracy_score(y, predictions))\n",
    "metrics[\"precision\"] = float(precision_score(y, predictions))\n",
    "metrics[\"recall\"] = float(recall_score(y, predictions))\n",
    "metrics[\"f1\"] = float(f1_score(y, predictions))\n",
    "\n",
    "# Save metrics\n",
    "with open(PROJECT_ROOT / \"outputs\" / \"metrics.yaml\", 'w') as file:\n",
    "    yaml.dump(metrics, file, default_flow_style=False)\n",
    "    \n",
    "print(metrics)"
   ]
  },
  {
   "cell_type": "code",
   "execution_count": 26,
   "id": "f1a78d2a",
   "metadata": {},
   "outputs": [
    {
     "data": {
      "image/png": "[encoded data removed]",
      "text/plain": [
       "<Figure size 640x480 with 2 Axes>"
      ]
     },
     "metadata": {},
     "output_type": "display_data"
    }
   ],
   "source": [
    "# Plot confusion matrix\n",
    "cm = confusion_matrix(y, predictions)\n",
    "\n",
    "disp = ConfusionMatrixDisplay(confusion_matrix=cm)\n",
    "disp.plot()\n",
    "\n",
    "# Save confusion matrix\n",
    "plt.savefig(PROJECT_ROOT / \"outputs\" / \"confusion_matrix.png\", dpi=150, bbox_inches='tight', pad_inches=0)"
   ]
  },
  {
   "cell_type": "markdown",
   "id": "c960acc1",
   "metadata": {},
   "source": [
    "*Attribution*:\n",
    "\n",
    "- https://github.com/benckx/dnn-movie-posters\n",
    "- https://medium.com/m2mtechconnect/classifying-pok%C3%A9mon-images-with-machine-learning-79b9bc07c080\n",
    "- https://www.kaggle.com/datasets/rounakbanik/pokemon"
   ]
  }
 ],
 "metadata": {
  "celltoolbar": "Tags",
  "kernelspec": {
   "display_name": "dvc-workshop",
   "language": "python",
   "name": "python3"
  },
  "language_info": {
   "codemirror_mode": {
    "name": "ipython",
    "version": 3
   },
   "file_extension": ".py",
   "mimetype": "text/x-python",
   "name": "python",
   "nbconvert_exporter": "python",
   "pygments_lexer": "ipython3",
   "version": "3.10.9"
  },
  "vscode": {
   "interpreter": {
    "hash": "cf85945edc22980feb4ee02090a078d22745ca3cc676cdee97018308d8251f2a"
   }
  }
 },
 "nbformat": 4,
 "nbformat_minor": 5
}
